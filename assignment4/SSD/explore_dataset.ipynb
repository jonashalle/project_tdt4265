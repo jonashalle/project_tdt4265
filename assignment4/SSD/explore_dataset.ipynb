{
 "cells": [
  {
   "cell_type": "code",
   "execution_count": 66,
   "metadata": {},
   "outputs": [],
   "source": [
    "import sys, os\n",
    "sys.path.append(os.path.dirname(os.getcwd())) # Include ../SSD in path\n",
    "import numpy as np\n",
    "import torch\n",
    "import matplotlib.pyplot as plt\n",
    "import pandas as pd\n",
    "import dataset_exploration.analyze_stuff as analyze\n",
    "from vizer.draw import draw_boxes\n",
    "from tops.config import instantiate, LazyConfig\n",
    "from ssd import utils\n",
    "#import configs.retinaNet_focal_loss as config\n",
    "np.random.seed(0)"
   ]
  },
  {
   "cell_type": "code",
   "execution_count": 3,
   "metadata": {},
   "outputs": [
    {
     "name": "stderr",
     "output_type": "stream",
     "text": [
      "2022-04-30 13:23:01,135 [INFO ] NumExpr defaulting to 8 threads.\n"
     ]
    }
   ],
   "source": [
    "\n",
    "basepath = '/work/alexaram/project_tdt4265/assignment4/SSD/data/tdt4265_2022/train_annotations.json'\n",
    "df = pd.read_json(basepath,lines = True)\n",
    "#print(df.to_string()) "
   ]
  },
  {
   "cell_type": "code",
   "execution_count": 67,
   "metadata": {},
   "outputs": [
    {
     "name": "stdout",
     "output_type": "stream",
     "text": [
      "Saving SSD outputs to: outputs/\n",
      "classes ocourens :  \n",
      " 1    9563\n",
      "7    4910\n",
      "8    1588\n",
      "5    1043\n",
      "6     615\n",
      "3     445\n",
      "2     123\n",
      "Name: category_id, dtype: int64\n"
     ]
    },
    {
     "data": {
      "text/plain": [
       "<bound method NDFrame.head of                                                     bbox       area  \\\n",
       "0      [725.93, 63.64, 20.40000000000009, 13.73999999...   280.2960   \n",
       "1      [351.26, 81.08, 7.939999999999998, 31.32000000...   248.6808   \n",
       "2               [187.57, 81.25, 7.27000000000001, 23.61]   171.6447   \n",
       "3      [431.3, 87.54, 7.279999999999973, 19.839999999...   144.4352   \n",
       "4                              [107.8, 78.1, 37.3, 39.0]  1454.7000   \n",
       "...                                                  ...        ...   \n",
       "18282  [523.03, 72.26, 16.06000000000006, 13.50999999...   216.9706   \n",
       "18283         [461.68, 63.35, 4.5400000000000205, 11.46]    52.0284   \n",
       "18284           [710.64, 82.7, 13.289999999999964, 45.3]   602.0370   \n",
       "18285  [527.9, 72.7, 16.06000000000006, 13.5099999999...   216.9706   \n",
       "18286  [466.72, 63.83, 4.5499999999999545, 11.7600000...    53.5080   \n",
       "\n",
       "       category_id  image_id     id segmentation  iscrowd  \n",
       "0                1         1      1           []        0  \n",
       "1                7         1      2           []        0  \n",
       "2                6         1      3           []        0  \n",
       "3                6         1      4           []        0  \n",
       "4                1         1      5           []        0  \n",
       "...            ...       ...    ...          ...      ...  \n",
       "18282            1      1603  18283           []        0  \n",
       "18283            8      1603  18284           []        0  \n",
       "18284            7      1604  18285           []        0  \n",
       "18285            1      1604  18286           []        0  \n",
       "18286            8      1604  18287           []        0  \n",
       "\n",
       "[18287 rows x 7 columns]>"
      ]
     },
     "execution_count": 67,
     "metadata": {},
     "output_type": "execute_result"
    },
    {
     "data": {
      "image/png": "[encoded data removed]",
      "text/plain": [
       "<Figure size 432x288 with 1 Axes>"
      ]
     },
     "metadata": {
      "needs_background": "light"
     },
     "output_type": "display_data"
    }
   ],
   "source": [
    "BATCH_SIZE = 1\n",
    "SET_TYPE = 'train'\n",
    "CFG_PATH = 'configs/retinaNet_focal_loss.py'\n",
    "\n",
    "cfg = analyze.get_config(CFG_PATH)\n",
    "#print(cfg)\n",
    "metadata = analyze.load_annotation_file(cfg, SET_TYPE)\n",
    "#number of times a value appears = (df['image_id']==1).sum()\n",
    "# occourence_classes = df['category_id'].value_counts()\n",
    "annotations = metadata['annotations']\n",
    "df = pd.DataFrame(data=annotations)\n",
    "occourence_classes = df['category_id'].value_counts()\n",
    "print('classes ocourens : ','\\n' ,occourence_classes)\n",
    "number_of_images = len(df)\n",
    "plt.bar(occourence_classes.index,occourence_classes.values)\n",
    "\n",
    "\n",
    "df.head"
   ]
  },
  {
   "cell_type": "code",
   "execution_count": 91,
   "metadata": {},
   "outputs": [
    {
     "name": "stdout",
     "output_type": "stream",
     "text": [
      "Saving SSD outputs to: outputs/\n"
     ]
    },
    {
     "data": {
      "text/plain": [
       "28.405051761999374"
      ]
     },
     "execution_count": 91,
     "metadata": {},
     "output_type": "execute_result"
    }
   ],
   "source": [
    "BATCH_SIZE = 1\n",
    "SET_TYPE = 'train'\n",
    "CFG_PATH = 'configs/retinaNet_focal_loss.py'\n",
    "\n",
    "cfg = analyze.get_config(CFG_PATH)\n",
    "#print(cfg)\n",
    "metadata = analyze.load_annotation_file(cfg, SET_TYPE)\n",
    "#number of times a value appears = (df['image_id']==1).sum()\n",
    "# occourence_classes = df['category_id'].value_counts()\n",
    "annotations = metadata['annotations']\n",
    "df = pd.DataFrame(data=annotations)\n",
    "\n",
    "df_cars = df.loc[df['category_id']==1]\n",
    "q = 0\n",
    "hight = []\n",
    "width = []\n",
    "x = []\n",
    "y = []\n",
    "for i in range(len(df_cars)):\n",
    "     list = df_cars['bbox'].values[i]\n",
    "     x.append(list[0])\n",
    "     y.append(list[1])\n",
    "     hight.append(list[2])\n",
    "     width.append(list[3])\n",
    "     q += 1\n",
    "dict = {'x':x,'y':y,'h':hight,'w':width}\n",
    "df_bbox = pd.DataFrame(dict)    \n",
    "df_bbox['h'].mean()\n",
    "# print(hight/q)    \n",
    "# print('aaaaaaaaaaaaaaaaaaaaaaaaa: ', q)\n",
    "# print(bbox_cars)\n",
    "# print('len is equal to: ', number_of_images)\n",
    "# average_area_cars = (cars['area']).mad()\n",
    "# print('mean area: ',average_area_cars)\n",
    "# print(cars)\n",
    "\n",
    "# df1 = (cars['bbox[3]']).mean()"
   ]
  },
  {
   "cell_type": "code",
   "execution_count": 99,
   "metadata": {},
   "outputs": [
    {
     "name": "stdout",
     "output_type": "stream",
     "text": [
      "Saving SSD outputs to: outputs/\n"
     ]
    },
    {
     "data": {
      "text/plain": [
       "19.66999999999996"
      ]
     },
     "execution_count": 99,
     "metadata": {},
     "output_type": "execute_result"
    }
   ],
   "source": [
    "BATCH_SIZE = 1\n",
    "SET_TYPE = 'train'\n",
    "CFG_PATH = 'configs/retinaNet_focal_loss.py'\n",
    "\n",
    "cfg = analyze.get_config(CFG_PATH)\n",
    "#print(cfg)\n",
    "metadata = analyze.load_annotation_file(cfg, SET_TYPE)\n",
    "#number of times a value appears = (df['image_id']==1).sum()\n",
    "# occourence_classes = df['category_id'].value_counts()\n",
    "annotations = metadata['annotations']\n",
    "df = pd.DataFrame(data=annotations)\n",
    "\n",
    "df_class = df.loc[df['category_id']==1]\n",
    "hight = []\n",
    "width = []\n",
    "x = []\n",
    "y = []\n",
    "# list = df_cars['bbox'].values[:]\n",
    "\n",
    "for i in range(len(df_class)):\n",
    "    list = df_class['bbox'].values[i]\n",
    "    x.append(list[0])\n",
    "    y.append(list[1])\n",
    "    hight.append(list[2])\n",
    "    width.append(list[3])\n",
    "dict = {'x':x,'y':y,'h':hight,'w':width}\n",
    "df_bbox = pd.DataFrame(dict)    \n",
    "df_bbox['h'].median()\n"
   ]
  }
 ],
 "metadata": {
  "interpreter": {
   "hash": "767d51c1340bd893661ea55ea3124f6de3c7a262a8b4abca0554b478b1e2ff90"
  },
  "kernelspec": {
   "display_name": "Python 3.8.10 64-bit",
   "language": "python",
   "name": "python3"
  },
  "language_info": {
   "codemirror_mode": {
    "name": "ipython",
    "version": 3
   },
   "file_extension": ".py",
   "mimetype": "text/x-python",
   "name": "python",
   "nbconvert_exporter": "python",
   "pygments_lexer": "ipython3",
   "version": "3.8.10"
  },
  "orig_nbformat": 4
 },
 "nbformat": 4,
 "nbformat_minor": 2
}
